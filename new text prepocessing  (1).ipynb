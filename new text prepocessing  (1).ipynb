{
 "cells": [
  {
   "cell_type": "code",
   "execution_count": 121,
   "metadata": {},
   "outputs": [],
   "source": [
    "import logging\n",
    "import numpy as np\n",
    "import pandas as pd\n",
    "import nltk\n",
    "import re\n",
    "import string\n",
    "from nltk.stem import WordNetLemmatizer\n",
    "from nltk.corpus import wordnet\n",
    "from nltk.corpus import stopwords\n",
    "from nltk.tokenize import RegexpTokenizer\n",
    "from sklearn.feature_extraction.text import CountVectorizer, TfidfVectorizer\n",
    "from sklearn.linear_model import LogisticRegression, LogisticRegressionCV\n",
    "from sklearn.model_selection import train_test_split\n",
    "from sklearn.svm import LinearSVC"
   ]
  },
  {
   "cell_type": "code",
   "execution_count": 88,
   "metadata": {},
   "outputs": [],
   "source": [
    "data_train = pd.read_csv(\"/Users/revan/Downloads/congressional_tweet_training_data.csv\")\n",
    "data_test = pd.read_csv(\"/Users/revan/Downloads/congressional_tweet_test_data.csv\")"
   ]
  },
  {
   "cell_type": "code",
   "execution_count": 89,
   "metadata": {},
   "outputs": [],
   "source": [
    "#df1.rename(\n",
    " #   columns={\"party\":\"party_id\"},inplace=True)"
   ]
  },
  {
   "cell_type": "code",
   "execution_count": 90,
   "metadata": {},
   "outputs": [],
   "source": [
    "#frames = [df1, df2]\n",
    "\n",
    "#data = pd.concat(frames)"
   ]
  },
  {
   "cell_type": "code",
   "execution_count": 91,
   "metadata": {},
   "outputs": [
    {
     "data": {
      "text/html": [
       "<div>\n",
       "<style scoped>\n",
       "    .dataframe tbody tr th:only-of-type {\n",
       "        vertical-align: middle;\n",
       "    }\n",
       "\n",
       "    .dataframe tbody tr th {\n",
       "        vertical-align: top;\n",
       "    }\n",
       "\n",
       "    .dataframe thead th {\n",
       "        text-align: right;\n",
       "    }\n",
       "</style>\n",
       "<table border=\"1\" class=\"dataframe\">\n",
       "  <thead>\n",
       "    <tr style=\"text-align: right;\">\n",
       "      <th></th>\n",
       "      <th>full_text</th>\n",
       "      <th>party</th>\n",
       "    </tr>\n",
       "  </thead>\n",
       "  <tbody>\n",
       "    <tr>\n",
       "      <th>0</th>\n",
       "      <td>b'#TaxReform improved the playing field for Am...</td>\n",
       "      <td>D</td>\n",
       "    </tr>\n",
       "    <tr>\n",
       "      <th>1</th>\n",
       "      <td>b'This #NativeWomensEqualPay Day, we recommit ...</td>\n",
       "      <td>D</td>\n",
       "    </tr>\n",
       "    <tr>\n",
       "      <th>2</th>\n",
       "      <td>b\"\\xe2\\x80\\x9cI became convinced that our gene...</td>\n",
       "      <td>D</td>\n",
       "    </tr>\n",
       "    <tr>\n",
       "      <th>3</th>\n",
       "      <td>b'During #NationalAdoptionMonth, we honor the ...</td>\n",
       "      <td>D</td>\n",
       "    </tr>\n",
       "    <tr>\n",
       "      <th>4</th>\n",
       "      <td>b'Happy #AirborneDay to our @USArmy paratroope...</td>\n",
       "      <td>D</td>\n",
       "    </tr>\n",
       "  </tbody>\n",
       "</table>\n",
       "</div>"
      ],
      "text/plain": [
       "                                           full_text party\n",
       "0  b'#TaxReform improved the playing field for Am...     D\n",
       "1  b'This #NativeWomensEqualPay Day, we recommit ...     D\n",
       "2  b\"\\xe2\\x80\\x9cI became convinced that our gene...     D\n",
       "3  b'During #NationalAdoptionMonth, we honor the ...     D\n",
       "4  b'Happy #AirborneDay to our @USArmy paratroope...     D"
      ]
     },
     "execution_count": 91,
     "metadata": {},
     "output_type": "execute_result"
    }
   ],
   "source": [
    "df_train = data_train[[\"full_text\",\"party_id\"]]\n",
    "df_test = data_test[[\"full_text\",\"party\"]]\n",
    "df_test.head()"
   ]
  },
  {
   "cell_type": "code",
   "execution_count": 92,
   "metadata": {},
   "outputs": [
    {
     "name": "stderr",
     "output_type": "stream",
     "text": [
      "/var/folders/79/l_dmwqfj6v94294gmn9b0rs80000gn/T/ipykernel_37289/477920869.py:1: SettingWithCopyWarning: \n",
      "A value is trying to be set on a copy of a slice from a DataFrame.\n",
      "Try using .loc[row_indexer,col_indexer] = value instead\n",
      "\n",
      "See the caveats in the documentation: https://pandas.pydata.org/pandas-docs/stable/user_guide/indexing.html#returning-a-view-versus-a-copy\n",
      "  df_train['full_text'] = df_train['full_text'].str[1:]\n",
      "/var/folders/79/l_dmwqfj6v94294gmn9b0rs80000gn/T/ipykernel_37289/477920869.py:2: SettingWithCopyWarning: \n",
      "A value is trying to be set on a copy of a slice from a DataFrame.\n",
      "Try using .loc[row_indexer,col_indexer] = value instead\n",
      "\n",
      "See the caveats in the documentation: https://pandas.pydata.org/pandas-docs/stable/user_guide/indexing.html#returning-a-view-versus-a-copy\n",
      "  df_test['full_text'] = df_test['full_text'].str[1:]\n"
     ]
    }
   ],
   "source": [
    "df_train['full_text'] = df_train['full_text'].str[1:]\n",
    "df_test['full_text'] = df_test['full_text'].str[1:]"
   ]
  },
  {
   "cell_type": "code",
   "execution_count": 93,
   "metadata": {},
   "outputs": [
    {
     "data": {
      "text/html": [
       "<div>\n",
       "<style scoped>\n",
       "    .dataframe tbody tr th:only-of-type {\n",
       "        vertical-align: middle;\n",
       "    }\n",
       "\n",
       "    .dataframe tbody tr th {\n",
       "        vertical-align: top;\n",
       "    }\n",
       "\n",
       "    .dataframe thead th {\n",
       "        text-align: right;\n",
       "    }\n",
       "</style>\n",
       "<table border=\"1\" class=\"dataframe\">\n",
       "  <thead>\n",
       "    <tr style=\"text-align: right;\">\n",
       "      <th></th>\n",
       "      <th>full_text</th>\n",
       "      <th>party</th>\n",
       "    </tr>\n",
       "  </thead>\n",
       "  <tbody>\n",
       "    <tr>\n",
       "      <th>0</th>\n",
       "      <td>'#TaxReform improved the playing field for Ame...</td>\n",
       "      <td>D</td>\n",
       "    </tr>\n",
       "    <tr>\n",
       "      <th>1</th>\n",
       "      <td>'This #NativeWomensEqualPay Day, we recommit t...</td>\n",
       "      <td>D</td>\n",
       "    </tr>\n",
       "    <tr>\n",
       "      <th>2</th>\n",
       "      <td>\"\\xe2\\x80\\x9cI became convinced that our gener...</td>\n",
       "      <td>D</td>\n",
       "    </tr>\n",
       "    <tr>\n",
       "      <th>3</th>\n",
       "      <td>'During #NationalAdoptionMonth, we honor the a...</td>\n",
       "      <td>D</td>\n",
       "    </tr>\n",
       "    <tr>\n",
       "      <th>4</th>\n",
       "      <td>'Happy #AirborneDay to our @USArmy paratrooper...</td>\n",
       "      <td>D</td>\n",
       "    </tr>\n",
       "  </tbody>\n",
       "</table>\n",
       "</div>"
      ],
      "text/plain": [
       "                                           full_text party\n",
       "0  '#TaxReform improved the playing field for Ame...     D\n",
       "1  'This #NativeWomensEqualPay Day, we recommit t...     D\n",
       "2  \"\\xe2\\x80\\x9cI became convinced that our gener...     D\n",
       "3  'During #NationalAdoptionMonth, we honor the a...     D\n",
       "4  'Happy #AirborneDay to our @USArmy paratrooper...     D"
      ]
     },
     "execution_count": 93,
     "metadata": {},
     "output_type": "execute_result"
    }
   ],
   "source": [
    "df_test.head()"
   ]
  },
  {
   "cell_type": "code",
   "execution_count": 94,
   "metadata": {},
   "outputs": [
    {
     "data": {
      "text/plain": [
       "'!\"#$%&\\'()*+,-./:;<=>?@[\\\\]^_`{|}~'"
      ]
     },
     "execution_count": 94,
     "metadata": {},
     "output_type": "execute_result"
    }
   ],
   "source": [
    "import string\n",
    "string.punctuation"
   ]
  },
  {
   "cell_type": "code",
   "execution_count": 96,
   "metadata": {},
   "outputs": [
    {
     "name": "stderr",
     "output_type": "stream",
     "text": [
      "/var/folders/79/l_dmwqfj6v94294gmn9b0rs80000gn/T/ipykernel_37289/899601270.py:5: SettingWithCopyWarning: \n",
      "A value is trying to be set on a copy of a slice from a DataFrame.\n",
      "Try using .loc[row_indexer,col_indexer] = value instead\n",
      "\n",
      "See the caveats in the documentation: https://pandas.pydata.org/pandas-docs/stable/user_guide/indexing.html#returning-a-view-versus-a-copy\n",
      "  df_train['clean_msg']= df_train['full_text'].apply(lambda x:remove_punctuation(x))\n",
      "/var/folders/79/l_dmwqfj6v94294gmn9b0rs80000gn/T/ipykernel_37289/899601270.py:6: SettingWithCopyWarning: \n",
      "A value is trying to be set on a copy of a slice from a DataFrame.\n",
      "Try using .loc[row_indexer,col_indexer] = value instead\n",
      "\n",
      "See the caveats in the documentation: https://pandas.pydata.org/pandas-docs/stable/user_guide/indexing.html#returning-a-view-versus-a-copy\n",
      "  df_test['clean_msg']= df_test['full_text'].apply(lambda x:remove_punctuation(x))\n"
     ]
    }
   ],
   "source": [
    "def remove_punctuation(text):\n",
    "    punctuationfree=\"\".join([i for i in text if i not in string.punctuation])\n",
    "    return punctuationfree\n",
    "#storing the puntuation free text\n",
    "df_train['clean_msg']= df_train['full_text'].apply(lambda x:remove_punctuation(x))\n",
    "df_test['clean_msg']= df_test['full_text'].apply(lambda x:remove_punctuation(x))"
   ]
  },
  {
   "cell_type": "code",
   "execution_count": 97,
   "metadata": {},
   "outputs": [
    {
     "data": {
      "text/html": [
       "<div>\n",
       "<style scoped>\n",
       "    .dataframe tbody tr th:only-of-type {\n",
       "        vertical-align: middle;\n",
       "    }\n",
       "\n",
       "    .dataframe tbody tr th {\n",
       "        vertical-align: top;\n",
       "    }\n",
       "\n",
       "    .dataframe thead th {\n",
       "        text-align: right;\n",
       "    }\n",
       "</style>\n",
       "<table border=\"1\" class=\"dataframe\">\n",
       "  <thead>\n",
       "    <tr style=\"text-align: right;\">\n",
       "      <th></th>\n",
       "      <th>full_text</th>\n",
       "      <th>party</th>\n",
       "      <th>clean_msg</th>\n",
       "    </tr>\n",
       "  </thead>\n",
       "  <tbody>\n",
       "    <tr>\n",
       "      <th>0</th>\n",
       "      <td>'#TaxReform improved the playing field for Ame...</td>\n",
       "      <td>D</td>\n",
       "      <td>TaxReform improved the playing field for Ameri...</td>\n",
       "    </tr>\n",
       "    <tr>\n",
       "      <th>1</th>\n",
       "      <td>'This #NativeWomensEqualPay Day, we recommit t...</td>\n",
       "      <td>D</td>\n",
       "      <td>This NativeWomensEqualPay Day we recommit to p...</td>\n",
       "    </tr>\n",
       "    <tr>\n",
       "      <th>2</th>\n",
       "      <td>\"\\xe2\\x80\\x9cI became convinced that our gener...</td>\n",
       "      <td>D</td>\n",
       "      <td>xe2x80x9cI became convinced that our generatio...</td>\n",
       "    </tr>\n",
       "    <tr>\n",
       "      <th>3</th>\n",
       "      <td>'During #NationalAdoptionMonth, we honor the a...</td>\n",
       "      <td>D</td>\n",
       "      <td>During NationalAdoptionMonth we honor the adop...</td>\n",
       "    </tr>\n",
       "    <tr>\n",
       "      <th>4</th>\n",
       "      <td>'Happy #AirborneDay to our @USArmy paratrooper...</td>\n",
       "      <td>D</td>\n",
       "      <td>Happy AirborneDay to our USArmy paratroopers a...</td>\n",
       "    </tr>\n",
       "  </tbody>\n",
       "</table>\n",
       "</div>"
      ],
      "text/plain": [
       "                                           full_text party  \\\n",
       "0  '#TaxReform improved the playing field for Ame...     D   \n",
       "1  'This #NativeWomensEqualPay Day, we recommit t...     D   \n",
       "2  \"\\xe2\\x80\\x9cI became convinced that our gener...     D   \n",
       "3  'During #NationalAdoptionMonth, we honor the a...     D   \n",
       "4  'Happy #AirborneDay to our @USArmy paratrooper...     D   \n",
       "\n",
       "                                           clean_msg  \n",
       "0  TaxReform improved the playing field for Ameri...  \n",
       "1  This NativeWomensEqualPay Day we recommit to p...  \n",
       "2  xe2x80x9cI became convinced that our generatio...  \n",
       "3  During NationalAdoptionMonth we honor the adop...  \n",
       "4  Happy AirborneDay to our USArmy paratroopers a...  "
      ]
     },
     "execution_count": 97,
     "metadata": {},
     "output_type": "execute_result"
    }
   ],
   "source": [
    "df_test.head()"
   ]
  },
  {
   "cell_type": "code",
   "execution_count": 98,
   "metadata": {},
   "outputs": [
    {
     "name": "stderr",
     "output_type": "stream",
     "text": [
      "/var/folders/79/l_dmwqfj6v94294gmn9b0rs80000gn/T/ipykernel_37289/861870578.py:1: SettingWithCopyWarning: \n",
      "A value is trying to be set on a copy of a slice from a DataFrame.\n",
      "Try using .loc[row_indexer,col_indexer] = value instead\n",
      "\n",
      "See the caveats in the documentation: https://pandas.pydata.org/pandas-docs/stable/user_guide/indexing.html#returning-a-view-versus-a-copy\n",
      "  df_train['msg_lower']= df_train['clean_msg'].apply(lambda x: x.lower())\n",
      "/var/folders/79/l_dmwqfj6v94294gmn9b0rs80000gn/T/ipykernel_37289/861870578.py:2: SettingWithCopyWarning: \n",
      "A value is trying to be set on a copy of a slice from a DataFrame.\n",
      "Try using .loc[row_indexer,col_indexer] = value instead\n",
      "\n",
      "See the caveats in the documentation: https://pandas.pydata.org/pandas-docs/stable/user_guide/indexing.html#returning-a-view-versus-a-copy\n",
      "  df_test['msg_lower']= df_test['clean_msg'].apply(lambda x: x.lower())\n"
     ]
    }
   ],
   "source": [
    "df_train['msg_lower']= df_train['clean_msg'].apply(lambda x: x.lower())\n",
    "df_test['msg_lower']= df_test['clean_msg'].apply(lambda x: x.lower())"
   ]
  },
  {
   "cell_type": "code",
   "execution_count": 99,
   "metadata": {},
   "outputs": [
    {
     "name": "stderr",
     "output_type": "stream",
     "text": [
      "/var/folders/79/l_dmwqfj6v94294gmn9b0rs80000gn/T/ipykernel_37289/3181606943.py:6: SettingWithCopyWarning: \n",
      "A value is trying to be set on a copy of a slice from a DataFrame.\n",
      "Try using .loc[row_indexer,col_indexer] = value instead\n",
      "\n",
      "See the caveats in the documentation: https://pandas.pydata.org/pandas-docs/stable/user_guide/indexing.html#returning-a-view-versus-a-copy\n",
      "  df_train['msg_tokenied']= df_train['msg_lower'].apply(lambda x: tokenization(x))\n",
      "/var/folders/79/l_dmwqfj6v94294gmn9b0rs80000gn/T/ipykernel_37289/3181606943.py:7: SettingWithCopyWarning: \n",
      "A value is trying to be set on a copy of a slice from a DataFrame.\n",
      "Try using .loc[row_indexer,col_indexer] = value instead\n",
      "\n",
      "See the caveats in the documentation: https://pandas.pydata.org/pandas-docs/stable/user_guide/indexing.html#returning-a-view-versus-a-copy\n",
      "  df_test['msg_tokenied']= df_test['msg_lower'].apply(lambda x: tokenization(x))\n"
     ]
    }
   ],
   "source": [
    "import re\n",
    "def tokenization(text):\n",
    "    tokens = re.split('W+',text)\n",
    "    return tokens\n",
    "#applying function to the column\n",
    "df_train['msg_tokenied']= df_train['msg_lower'].apply(lambda x: tokenization(x))\n",
    "df_test['msg_tokenied']= df_test['msg_lower'].apply(lambda x: tokenization(x))"
   ]
  },
  {
   "cell_type": "code",
   "execution_count": 100,
   "metadata": {},
   "outputs": [
    {
     "data": {
      "text/html": [
       "<div>\n",
       "<style scoped>\n",
       "    .dataframe tbody tr th:only-of-type {\n",
       "        vertical-align: middle;\n",
       "    }\n",
       "\n",
       "    .dataframe tbody tr th {\n",
       "        vertical-align: top;\n",
       "    }\n",
       "\n",
       "    .dataframe thead th {\n",
       "        text-align: right;\n",
       "    }\n",
       "</style>\n",
       "<table border=\"1\" class=\"dataframe\">\n",
       "  <thead>\n",
       "    <tr style=\"text-align: right;\">\n",
       "      <th></th>\n",
       "      <th>full_text</th>\n",
       "      <th>party</th>\n",
       "      <th>clean_msg</th>\n",
       "      <th>msg_lower</th>\n",
       "      <th>msg_tokenied</th>\n",
       "    </tr>\n",
       "  </thead>\n",
       "  <tbody>\n",
       "    <tr>\n",
       "      <th>0</th>\n",
       "      <td>'#TaxReform improved the playing field for Ame...</td>\n",
       "      <td>D</td>\n",
       "      <td>TaxReform improved the playing field for Ameri...</td>\n",
       "      <td>taxreform improved the playing field for ameri...</td>\n",
       "      <td>[taxreform improved the playing field for amer...</td>\n",
       "    </tr>\n",
       "    <tr>\n",
       "      <th>1</th>\n",
       "      <td>'This #NativeWomensEqualPay Day, we recommit t...</td>\n",
       "      <td>D</td>\n",
       "      <td>This NativeWomensEqualPay Day we recommit to p...</td>\n",
       "      <td>this nativewomensequalpay day we recommit to p...</td>\n",
       "      <td>[this nativewomensequalpay day we recommit to ...</td>\n",
       "    </tr>\n",
       "    <tr>\n",
       "      <th>2</th>\n",
       "      <td>\"\\xe2\\x80\\x9cI became convinced that our gener...</td>\n",
       "      <td>D</td>\n",
       "      <td>xe2x80x9cI became convinced that our generatio...</td>\n",
       "      <td>xe2x80x9ci became convinced that our generatio...</td>\n",
       "      <td>[xe2x80x9ci became convinced that our generati...</td>\n",
       "    </tr>\n",
       "    <tr>\n",
       "      <th>3</th>\n",
       "      <td>'During #NationalAdoptionMonth, we honor the a...</td>\n",
       "      <td>D</td>\n",
       "      <td>During NationalAdoptionMonth we honor the adop...</td>\n",
       "      <td>during nationaladoptionmonth we honor the adop...</td>\n",
       "      <td>[during nationaladoptionmonth we honor the ado...</td>\n",
       "    </tr>\n",
       "    <tr>\n",
       "      <th>4</th>\n",
       "      <td>'Happy #AirborneDay to our @USArmy paratrooper...</td>\n",
       "      <td>D</td>\n",
       "      <td>Happy AirborneDay to our USArmy paratroopers a...</td>\n",
       "      <td>happy airborneday to our usarmy paratroopers a...</td>\n",
       "      <td>[happy airborneday to our usarmy paratroopers ...</td>\n",
       "    </tr>\n",
       "  </tbody>\n",
       "</table>\n",
       "</div>"
      ],
      "text/plain": [
       "                                           full_text party  \\\n",
       "0  '#TaxReform improved the playing field for Ame...     D   \n",
       "1  'This #NativeWomensEqualPay Day, we recommit t...     D   \n",
       "2  \"\\xe2\\x80\\x9cI became convinced that our gener...     D   \n",
       "3  'During #NationalAdoptionMonth, we honor the a...     D   \n",
       "4  'Happy #AirborneDay to our @USArmy paratrooper...     D   \n",
       "\n",
       "                                           clean_msg  \\\n",
       "0  TaxReform improved the playing field for Ameri...   \n",
       "1  This NativeWomensEqualPay Day we recommit to p...   \n",
       "2  xe2x80x9cI became convinced that our generatio...   \n",
       "3  During NationalAdoptionMonth we honor the adop...   \n",
       "4  Happy AirborneDay to our USArmy paratroopers a...   \n",
       "\n",
       "                                           msg_lower  \\\n",
       "0  taxreform improved the playing field for ameri...   \n",
       "1  this nativewomensequalpay day we recommit to p...   \n",
       "2  xe2x80x9ci became convinced that our generatio...   \n",
       "3  during nationaladoptionmonth we honor the adop...   \n",
       "4  happy airborneday to our usarmy paratroopers a...   \n",
       "\n",
       "                                        msg_tokenied  \n",
       "0  [taxreform improved the playing field for amer...  \n",
       "1  [this nativewomensequalpay day we recommit to ...  \n",
       "2  [xe2x80x9ci became convinced that our generati...  \n",
       "3  [during nationaladoptionmonth we honor the ado...  \n",
       "4  [happy airborneday to our usarmy paratroopers ...  "
      ]
     },
     "execution_count": 100,
     "metadata": {},
     "output_type": "execute_result"
    }
   ],
   "source": [
    "df_test.head()"
   ]
  },
  {
   "cell_type": "code",
   "execution_count": 101,
   "metadata": {},
   "outputs": [],
   "source": [
    "import nltk\n",
    "#Stop words present in the library\n",
    "stopwords = nltk.corpus.stopwords.words('english')"
   ]
  },
  {
   "cell_type": "code",
   "execution_count": 102,
   "metadata": {},
   "outputs": [],
   "source": [
    "def remove_stopwords(text):\n",
    "    output= [i for i in text if i not in stopwords]\n",
    "    return output"
   ]
  },
  {
   "cell_type": "code",
   "execution_count": 103,
   "metadata": {},
   "outputs": [
    {
     "name": "stderr",
     "output_type": "stream",
     "text": [
      "/var/folders/79/l_dmwqfj6v94294gmn9b0rs80000gn/T/ipykernel_37289/924903993.py:2: SettingWithCopyWarning: \n",
      "A value is trying to be set on a copy of a slice from a DataFrame.\n",
      "Try using .loc[row_indexer,col_indexer] = value instead\n",
      "\n",
      "See the caveats in the documentation: https://pandas.pydata.org/pandas-docs/stable/user_guide/indexing.html#returning-a-view-versus-a-copy\n",
      "  df_test['no_stopwords']= df_test['msg_tokenied'].apply(lambda x:remove_stopwords(x))\n"
     ]
    }
   ],
   "source": [
    "df_train['no_stopwords']= df_train['msg_tokenied'].apply(lambda x:remove_stopwords(x))\n",
    "df_test['no_stopwords']= df_test['msg_tokenied'].apply(lambda x:remove_stopwords(x))"
   ]
  },
  {
   "cell_type": "code",
   "execution_count": 104,
   "metadata": {},
   "outputs": [
    {
     "data": {
      "text/html": [
       "<div>\n",
       "<style scoped>\n",
       "    .dataframe tbody tr th:only-of-type {\n",
       "        vertical-align: middle;\n",
       "    }\n",
       "\n",
       "    .dataframe tbody tr th {\n",
       "        vertical-align: top;\n",
       "    }\n",
       "\n",
       "    .dataframe thead th {\n",
       "        text-align: right;\n",
       "    }\n",
       "</style>\n",
       "<table border=\"1\" class=\"dataframe\">\n",
       "  <thead>\n",
       "    <tr style=\"text-align: right;\">\n",
       "      <th></th>\n",
       "      <th>full_text</th>\n",
       "      <th>party</th>\n",
       "      <th>clean_msg</th>\n",
       "      <th>msg_lower</th>\n",
       "      <th>msg_tokenied</th>\n",
       "      <th>no_stopwords</th>\n",
       "    </tr>\n",
       "  </thead>\n",
       "  <tbody>\n",
       "    <tr>\n",
       "      <th>0</th>\n",
       "      <td>'#TaxReform improved the playing field for Ame...</td>\n",
       "      <td>D</td>\n",
       "      <td>TaxReform improved the playing field for Ameri...</td>\n",
       "      <td>taxreform improved the playing field for ameri...</td>\n",
       "      <td>[taxreform improved the playing field for amer...</td>\n",
       "      <td>[taxreform improved the playing field for amer...</td>\n",
       "    </tr>\n",
       "    <tr>\n",
       "      <th>1</th>\n",
       "      <td>'This #NativeWomensEqualPay Day, we recommit t...</td>\n",
       "      <td>D</td>\n",
       "      <td>This NativeWomensEqualPay Day we recommit to p...</td>\n",
       "      <td>this nativewomensequalpay day we recommit to p...</td>\n",
       "      <td>[this nativewomensequalpay day we recommit to ...</td>\n",
       "      <td>[this nativewomensequalpay day we recommit to ...</td>\n",
       "    </tr>\n",
       "    <tr>\n",
       "      <th>2</th>\n",
       "      <td>\"\\xe2\\x80\\x9cI became convinced that our gener...</td>\n",
       "      <td>D</td>\n",
       "      <td>xe2x80x9cI became convinced that our generatio...</td>\n",
       "      <td>xe2x80x9ci became convinced that our generatio...</td>\n",
       "      <td>[xe2x80x9ci became convinced that our generati...</td>\n",
       "      <td>[xe2x80x9ci became convinced that our generati...</td>\n",
       "    </tr>\n",
       "    <tr>\n",
       "      <th>3</th>\n",
       "      <td>'During #NationalAdoptionMonth, we honor the a...</td>\n",
       "      <td>D</td>\n",
       "      <td>During NationalAdoptionMonth we honor the adop...</td>\n",
       "      <td>during nationaladoptionmonth we honor the adop...</td>\n",
       "      <td>[during nationaladoptionmonth we honor the ado...</td>\n",
       "      <td>[during nationaladoptionmonth we honor the ado...</td>\n",
       "    </tr>\n",
       "    <tr>\n",
       "      <th>4</th>\n",
       "      <td>'Happy #AirborneDay to our @USArmy paratrooper...</td>\n",
       "      <td>D</td>\n",
       "      <td>Happy AirborneDay to our USArmy paratroopers a...</td>\n",
       "      <td>happy airborneday to our usarmy paratroopers a...</td>\n",
       "      <td>[happy airborneday to our usarmy paratroopers ...</td>\n",
       "      <td>[happy airborneday to our usarmy paratroopers ...</td>\n",
       "    </tr>\n",
       "  </tbody>\n",
       "</table>\n",
       "</div>"
      ],
      "text/plain": [
       "                                           full_text party  \\\n",
       "0  '#TaxReform improved the playing field for Ame...     D   \n",
       "1  'This #NativeWomensEqualPay Day, we recommit t...     D   \n",
       "2  \"\\xe2\\x80\\x9cI became convinced that our gener...     D   \n",
       "3  'During #NationalAdoptionMonth, we honor the a...     D   \n",
       "4  'Happy #AirborneDay to our @USArmy paratrooper...     D   \n",
       "\n",
       "                                           clean_msg  \\\n",
       "0  TaxReform improved the playing field for Ameri...   \n",
       "1  This NativeWomensEqualPay Day we recommit to p...   \n",
       "2  xe2x80x9cI became convinced that our generatio...   \n",
       "3  During NationalAdoptionMonth we honor the adop...   \n",
       "4  Happy AirborneDay to our USArmy paratroopers a...   \n",
       "\n",
       "                                           msg_lower  \\\n",
       "0  taxreform improved the playing field for ameri...   \n",
       "1  this nativewomensequalpay day we recommit to p...   \n",
       "2  xe2x80x9ci became convinced that our generatio...   \n",
       "3  during nationaladoptionmonth we honor the adop...   \n",
       "4  happy airborneday to our usarmy paratroopers a...   \n",
       "\n",
       "                                        msg_tokenied  \\\n",
       "0  [taxreform improved the playing field for amer...   \n",
       "1  [this nativewomensequalpay day we recommit to ...   \n",
       "2  [xe2x80x9ci became convinced that our generati...   \n",
       "3  [during nationaladoptionmonth we honor the ado...   \n",
       "4  [happy airborneday to our usarmy paratroopers ...   \n",
       "\n",
       "                                        no_stopwords  \n",
       "0  [taxreform improved the playing field for amer...  \n",
       "1  [this nativewomensequalpay day we recommit to ...  \n",
       "2  [xe2x80x9ci became convinced that our generati...  \n",
       "3  [during nationaladoptionmonth we honor the ado...  \n",
       "4  [happy airborneday to our usarmy paratroopers ...  "
      ]
     },
     "execution_count": 104,
     "metadata": {},
     "output_type": "execute_result"
    }
   ],
   "source": [
    "df_test.head()"
   ]
  },
  {
   "cell_type": "code",
   "execution_count": 105,
   "metadata": {},
   "outputs": [],
   "source": [
    "from nltk.stem.porter import PorterStemmer\n",
    "#defining the object for stemming\n",
    "porter_stemmer = PorterStemmer()"
   ]
  },
  {
   "cell_type": "code",
   "execution_count": 106,
   "metadata": {},
   "outputs": [],
   "source": [
    "#defining a function for stemming\n",
    "def stemming(text):\n",
    "    stem_text = [porter_stemmer.stem(word) for word in text]\n",
    "    return stem_text\n",
    "df_train['msg_stemmed']=df_train['no_stopwords'].apply(lambda x: stemming(x))\n",
    "df_test['msg_stemmed']=df_test['no_stopwords'].apply(lambda x: stemming(x))"
   ]
  },
  {
   "cell_type": "code",
   "execution_count": 107,
   "metadata": {},
   "outputs": [],
   "source": [
    "from nltk.stem import WordNetLemmatizer\n",
    "#defining the object for Lemmatizationfid\n",
    "wordnet_lemmatizer = WordNetLemmatizer()"
   ]
  },
  {
   "cell_type": "code",
   "execution_count": 108,
   "metadata": {},
   "outputs": [],
   "source": [
    "def lemmatizer(text):\n",
    "    lemm_text = [wordnet_lemmatizer.lemmatize(word) for word in text]\n",
    "    return lemm_text\n",
    "df_train['msg_lemmatized']=df_train['msg_stemmed'].apply(lambda x:lemmatizer(x))\n",
    "df_test['msg_lemmatized']=df_test['msg_stemmed'].apply(lambda x:lemmatizer(x))"
   ]
  },
  {
   "cell_type": "code",
   "execution_count": 109,
   "metadata": {},
   "outputs": [
    {
     "data": {
      "text/html": [
       "<div>\n",
       "<style scoped>\n",
       "    .dataframe tbody tr th:only-of-type {\n",
       "        vertical-align: middle;\n",
       "    }\n",
       "\n",
       "    .dataframe tbody tr th {\n",
       "        vertical-align: top;\n",
       "    }\n",
       "\n",
       "    .dataframe thead th {\n",
       "        text-align: right;\n",
       "    }\n",
       "</style>\n",
       "<table border=\"1\" class=\"dataframe\">\n",
       "  <thead>\n",
       "    <tr style=\"text-align: right;\">\n",
       "      <th></th>\n",
       "      <th>full_text</th>\n",
       "      <th>party</th>\n",
       "      <th>clean_msg</th>\n",
       "      <th>msg_lower</th>\n",
       "      <th>msg_tokenied</th>\n",
       "      <th>no_stopwords</th>\n",
       "      <th>msg_stemmed</th>\n",
       "      <th>msg_lemmatized</th>\n",
       "    </tr>\n",
       "  </thead>\n",
       "  <tbody>\n",
       "    <tr>\n",
       "      <th>0</th>\n",
       "      <td>'#TaxReform improved the playing field for Ame...</td>\n",
       "      <td>D</td>\n",
       "      <td>TaxReform improved the playing field for Ameri...</td>\n",
       "      <td>taxreform improved the playing field for ameri...</td>\n",
       "      <td>[taxreform improved the playing field for amer...</td>\n",
       "      <td>[taxreform improved the playing field for amer...</td>\n",
       "      <td>[taxreform improved the playing field for amer...</td>\n",
       "      <td>[taxreform improved the playing field for amer...</td>\n",
       "    </tr>\n",
       "    <tr>\n",
       "      <th>1</th>\n",
       "      <td>'This #NativeWomensEqualPay Day, we recommit t...</td>\n",
       "      <td>D</td>\n",
       "      <td>This NativeWomensEqualPay Day we recommit to p...</td>\n",
       "      <td>this nativewomensequalpay day we recommit to p...</td>\n",
       "      <td>[this nativewomensequalpay day we recommit to ...</td>\n",
       "      <td>[this nativewomensequalpay day we recommit to ...</td>\n",
       "      <td>[this nativewomensequalpay day we recommit to ...</td>\n",
       "      <td>[this nativewomensequalpay day we recommit to ...</td>\n",
       "    </tr>\n",
       "    <tr>\n",
       "      <th>2</th>\n",
       "      <td>\"\\xe2\\x80\\x9cI became convinced that our gener...</td>\n",
       "      <td>D</td>\n",
       "      <td>xe2x80x9cI became convinced that our generatio...</td>\n",
       "      <td>xe2x80x9ci became convinced that our generatio...</td>\n",
       "      <td>[xe2x80x9ci became convinced that our generati...</td>\n",
       "      <td>[xe2x80x9ci became convinced that our generati...</td>\n",
       "      <td>[xe2x80x9ci became convinced that our generati...</td>\n",
       "      <td>[xe2x80x9ci became convinced that our generati...</td>\n",
       "    </tr>\n",
       "    <tr>\n",
       "      <th>3</th>\n",
       "      <td>'During #NationalAdoptionMonth, we honor the a...</td>\n",
       "      <td>D</td>\n",
       "      <td>During NationalAdoptionMonth we honor the adop...</td>\n",
       "      <td>during nationaladoptionmonth we honor the adop...</td>\n",
       "      <td>[during nationaladoptionmonth we honor the ado...</td>\n",
       "      <td>[during nationaladoptionmonth we honor the ado...</td>\n",
       "      <td>[during nationaladoptionmonth we honor the ado...</td>\n",
       "      <td>[during nationaladoptionmonth we honor the ado...</td>\n",
       "    </tr>\n",
       "    <tr>\n",
       "      <th>4</th>\n",
       "      <td>'Happy #AirborneDay to our @USArmy paratrooper...</td>\n",
       "      <td>D</td>\n",
       "      <td>Happy AirborneDay to our USArmy paratroopers a...</td>\n",
       "      <td>happy airborneday to our usarmy paratroopers a...</td>\n",
       "      <td>[happy airborneday to our usarmy paratroopers ...</td>\n",
       "      <td>[happy airborneday to our usarmy paratroopers ...</td>\n",
       "      <td>[happy airborneday to our usarmy paratroopers ...</td>\n",
       "      <td>[happy airborneday to our usarmy paratroopers ...</td>\n",
       "    </tr>\n",
       "  </tbody>\n",
       "</table>\n",
       "</div>"
      ],
      "text/plain": [
       "                                           full_text party  \\\n",
       "0  '#TaxReform improved the playing field for Ame...     D   \n",
       "1  'This #NativeWomensEqualPay Day, we recommit t...     D   \n",
       "2  \"\\xe2\\x80\\x9cI became convinced that our gener...     D   \n",
       "3  'During #NationalAdoptionMonth, we honor the a...     D   \n",
       "4  'Happy #AirborneDay to our @USArmy paratrooper...     D   \n",
       "\n",
       "                                           clean_msg  \\\n",
       "0  TaxReform improved the playing field for Ameri...   \n",
       "1  This NativeWomensEqualPay Day we recommit to p...   \n",
       "2  xe2x80x9cI became convinced that our generatio...   \n",
       "3  During NationalAdoptionMonth we honor the adop...   \n",
       "4  Happy AirborneDay to our USArmy paratroopers a...   \n",
       "\n",
       "                                           msg_lower  \\\n",
       "0  taxreform improved the playing field for ameri...   \n",
       "1  this nativewomensequalpay day we recommit to p...   \n",
       "2  xe2x80x9ci became convinced that our generatio...   \n",
       "3  during nationaladoptionmonth we honor the adop...   \n",
       "4  happy airborneday to our usarmy paratroopers a...   \n",
       "\n",
       "                                        msg_tokenied  \\\n",
       "0  [taxreform improved the playing field for amer...   \n",
       "1  [this nativewomensequalpay day we recommit to ...   \n",
       "2  [xe2x80x9ci became convinced that our generati...   \n",
       "3  [during nationaladoptionmonth we honor the ado...   \n",
       "4  [happy airborneday to our usarmy paratroopers ...   \n",
       "\n",
       "                                        no_stopwords  \\\n",
       "0  [taxreform improved the playing field for amer...   \n",
       "1  [this nativewomensequalpay day we recommit to ...   \n",
       "2  [xe2x80x9ci became convinced that our generati...   \n",
       "3  [during nationaladoptionmonth we honor the ado...   \n",
       "4  [happy airborneday to our usarmy paratroopers ...   \n",
       "\n",
       "                                         msg_stemmed  \\\n",
       "0  [taxreform improved the playing field for amer...   \n",
       "1  [this nativewomensequalpay day we recommit to ...   \n",
       "2  [xe2x80x9ci became convinced that our generati...   \n",
       "3  [during nationaladoptionmonth we honor the ado...   \n",
       "4  [happy airborneday to our usarmy paratroopers ...   \n",
       "\n",
       "                                      msg_lemmatized  \n",
       "0  [taxreform improved the playing field for amer...  \n",
       "1  [this nativewomensequalpay day we recommit to ...  \n",
       "2  [xe2x80x9ci became convinced that our generati...  \n",
       "3  [during nationaladoptionmonth we honor the ado...  \n",
       "4  [happy airborneday to our usarmy paratroopers ...  "
      ]
     },
     "execution_count": 109,
     "metadata": {},
     "output_type": "execute_result"
    }
   ],
   "source": [
    "df_test.head()"
   ]
  },
  {
   "cell_type": "code",
   "execution_count": 110,
   "metadata": {},
   "outputs": [
    {
     "data": {
      "text/plain": [
       "['xe2x80x9ci became convinced that our generation and our silence makes us complicit in this environment of rampant sexual assault and sexual harassment in the workplace so wexe2x80x99re here to say no morexe2x80x9d  metoo shatteringthesilence more in thehill httpstcod6yvmi919f']"
      ]
     },
     "execution_count": 110,
     "metadata": {},
     "output_type": "execute_result"
    }
   ],
   "source": [
    "df_test['msg_lemmatized'][2]"
   ]
  },
  {
   "cell_type": "code",
   "execution_count": 111,
   "metadata": {},
   "outputs": [],
   "source": [
    "def no_na(text):\n",
    "    result = [x for x in text if x != 'NaN']\n",
    "    return result\n",
    "df_train['full']=df_train['msg_lemmatized'].apply(lambda x:no_na(x))\n",
    "df_test['full']=df_test['msg_lemmatized'].apply(lambda x:no_na(x))"
   ]
  },
  {
   "cell_type": "code",
   "execution_count": 112,
   "metadata": {},
   "outputs": [],
   "source": [
    "df_train['text_clean'] = df_train['full'].apply(lambda x: ','.join(map(str, x)))\n",
    "df_test['text_clean'] = df_test['full'].apply(lambda x: ','.join(map(str, x)))"
   ]
  },
  {
   "cell_type": "code",
   "execution_count": 113,
   "metadata": {},
   "outputs": [
    {
     "data": {
      "text/plain": [
       "0    taxreform improved the playing field for ameri...\n",
       "1    this nativewomensequalpay day we recommit to p...\n",
       "2    xe2x80x9ci became convinced that our generatio...\n",
       "3    during nationaladoptionmonth we honor the adop...\n",
       "4    happy airborneday to our usarmy paratroopers a...\n",
       "Name: text_clean, dtype: object"
      ]
     },
     "execution_count": 113,
     "metadata": {},
     "output_type": "execute_result"
    }
   ],
   "source": [
    "df_test[\"text_clean\"].head()"
   ]
  },
  {
   "cell_type": "code",
   "execution_count": 114,
   "metadata": {},
   "outputs": [
    {
     "data": {
      "text/plain": [
       "str"
      ]
     },
     "execution_count": 114,
     "metadata": {},
     "output_type": "execute_result"
    }
   ],
   "source": [
    "type(df_train[\"text_clean\"][0])"
   ]
  },
  {
   "cell_type": "code",
   "execution_count": 115,
   "metadata": {},
   "outputs": [],
   "source": [
    "#df = pd.concat(frames)"
   ]
  },
  {
   "cell_type": "code",
   "execution_count": 118,
   "metadata": {},
   "outputs": [],
   "source": [
    "data_train[\"clean_text\"] = df_train[\"text_clean\"]\n",
    "data_test[\"clean_text\"] = df_test[\"text_clean\"]"
   ]
  },
  {
   "cell_type": "code",
   "execution_count": 124,
   "metadata": {},
   "outputs": [],
   "source": [
    "def linearscv(df):    \n",
    "    #print(df[\"clean_text\"])\n",
    "    print(\"starting linearscv\")\n",
    "    x = df['clean_text'].tolist()\n",
    "    tfid = TfidfVectorizer(ngram_range=(1,2), max_features=10000, lowercase= True)\n",
    "    tf = tfid.fit_transform(x)\n",
    "    print('No. of feature_words: ', tfid.get_feature_names())\n",
    "    return (tf)\n",
    "\n",
    "def accuracy(df_train, df_test):\n",
    "    y_train = df_train['party_id'].map({'D': 0, 'R': 1}).tolist()\n",
    "    y_test = df_test['party'].map({'D': 0, 'R': 1}).tolist()\n",
    "    x_train = linearscv(df_train)\n",
    "    x_test = linearscv(df_test)\n",
    "    #print(x_train.shape, x_test.shape)\n",
    "    print(\"starting regression\")\n",
    "    clf1 = LogisticRegression(C=2, random_state = 265, max_iter=3000, n_jobs = -1).fit(x_train, y_train)\n",
    "    clf2 = LinearSVC().fit(x_train, y_train)\n",
    "    clf3 = LogisticRegressionCV(cv = 5, random_state = 265, max_iter=3000, n_jobs = -1).fit(x_train, y_train)\n",
    "    score1 = clf1.score(x_test, y_test)\n",
    "    score2 = clf2.score(x_test, y_test)\n",
    "    score3 = clf3.score(x_test, y_test)\n",
    "    y_predict = clf1.predict(x_test) \n",
    "    print(y_predict)\n",
    "    results = [] \n",
    "    results.append([\"LR\" , score1])\n",
    "    results.append([\"SVC\" , score2])\n",
    "    results.append([\"LRCV\" , score3])\n",
    "    print(pd.DataFrame(results, columns=['label', 'accuracy']))\n",
    "    return  y_predict    "
   ]
  },
  {
   "cell_type": "code",
   "execution_count": null,
   "metadata": {},
   "outputs": [
    {
     "name": "stdout",
     "output_type": "stream",
     "text": [
      "starting linearscv\n"
     ]
    },
    {
     "name": "stderr",
     "output_type": "stream",
     "text": [
      "/Users/revan/opt/anaconda3/lib/python3.9/site-packages/sklearn/utils/deprecation.py:87: FutureWarning: Function get_feature_names is deprecated; get_feature_names is deprecated in 1.0 and will be removed in 1.2. Please use get_feature_names_out instead.\n",
      "  warnings.warn(msg, category=FutureWarning)\n"
     ]
    },
    {
     "name": "stdout",
     "output_type": "stream",
     "text": [
      "No. of feature_words:  10000\n",
      "starting linearscv\n",
      "No. of feature_words:  10000\n",
      "starting regression\n",
      "[1 0 0 ... 1 1 0]\n",
      "  label  accuracy\n",
      "0    LR  0.482570\n",
      "1   SVC  0.461098\n",
      "2  LRCV  0.483525\n"
     ]
    }
   ],
   "source": [
    "accuracy(data_train, data_test)"
   ]
  },
  {
   "cell_type": "code",
   "execution_count": 32,
   "metadata": {},
   "outputs": [],
   "source": [
    "#df.to_csv('cleaned_test.csv')\n",
    "#df.to_csv('cleaned_train.csv')"
   ]
  },
  {
   "cell_type": "code",
   "execution_count": null,
   "metadata": {},
   "outputs": [],
   "source": []
  }
 ],
 "metadata": {
  "kernelspec": {
   "display_name": "Python 3 (anaconda3 5.3.0)",
   "language": "python",
   "name": "anaconda3-5.3.0"
  },
  "language_info": {
   "codemirror_mode": {
    "name": "ipython",
    "version": 3
   },
   "file_extension": ".py",
   "mimetype": "text/x-python",
   "name": "python",
   "nbconvert_exporter": "python",
   "pygments_lexer": "ipython3",
   "version": "3.7.3"
  }
 },
 "nbformat": 4,
 "nbformat_minor": 2
}
