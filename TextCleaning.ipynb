{
 "cells": [
  {
   "cell_type": "code",
   "execution_count": 33,
   "id": "e9b8d6f3",
   "metadata": {},
   "outputs": [],
   "source": [
    "# for load the data\n",
    "import pandas as pd\n",
    "import numpy as np \n",
    "\n",
    "#for data visualisation\n",
    "import matplotlib.pyplot as plt\n",
    "plt.style.use('seaborn')\n",
    "import seaborn as sns\n",
    "#from wordcloud import WordCloud,STOPWORDS\n",
    "\n",
    "#for text cleaning\n",
    "import re\n",
    "import string\n",
    "from nltk.corpus import stopwords,wordnet\n",
    "#from nltk.stem import PorterStemmer\n",
    "import nltk \n",
    "from nltk.stem import WordNetLemmatizer\n",
    "#for tokenization\n",
    "from keras.preprocessing.text import Tokenizer\n",
    "from keras.preprocessing.sequence import pad_sequences\n",
    "\n",
    "#for split the data into train & test\n",
    "from sklearn.model_selection import train_test_split\n",
    "\n",
    "#for model building\n",
    "import tensorflow as tf\n",
    "import keras \n",
    "from keras.models import Sequential\n",
    "from keras.layers import LSTM,Embedding,Dense, Flatten, Dropout , Bidirectional , Dropout,GlobalAveragePooling1D\n",
    "\n",
    "#for model evaluation\n",
    "from sklearn.metrics import classification_report,confusion_matrix\n",
    "\n",
    "import warnings\n",
    "warnings.filterwarnings('ignore')"
   ]
  },
  {
   "cell_type": "code",
   "execution_count": 34,
   "id": "3e7886bc",
   "metadata": {},
   "outputs": [],
   "source": [
    "data_train = pd.read_csv(\"/Users/revan/Downloads/congressional_tweet_training_data.csv\")\n",
    "data_test = pd.read_csv(\"/Users/revan/Downloads/congressional_tweet_test_data.csv\")\n",
    "data_train = df_train.fillna('')\n",
    "data_test = data_test.fillna('')"
   ]
  },
  {
   "cell_type": "code",
   "execution_count": 35,
   "id": "5b3d2267",
   "metadata": {},
   "outputs": [
    {
     "data": {
      "text/html": [
       "<div>\n",
       "<style scoped>\n",
       "    .dataframe tbody tr th:only-of-type {\n",
       "        vertical-align: middle;\n",
       "    }\n",
       "\n",
       "    .dataframe tbody tr th {\n",
       "        vertical-align: top;\n",
       "    }\n",
       "\n",
       "    .dataframe thead th {\n",
       "        text-align: right;\n",
       "    }\n",
       "</style>\n",
       "<table border=\"1\" class=\"dataframe\">\n",
       "  <thead>\n",
       "    <tr style=\"text-align: right;\">\n",
       "      <th></th>\n",
       "      <th>favorite_count</th>\n",
       "      <th>full_text</th>\n",
       "      <th>hashtags</th>\n",
       "      <th>retweet_count</th>\n",
       "      <th>year</th>\n",
       "      <th>party_id</th>\n",
       "    </tr>\n",
       "  </thead>\n",
       "  <tbody>\n",
       "    <tr>\n",
       "      <th>0</th>\n",
       "      <td>0</td>\n",
       "      <td>b\"RT @KUSINews: One of our longtime viewers wa...</td>\n",
       "      <td>KUSI</td>\n",
       "      <td>10</td>\n",
       "      <td>2017.0</td>\n",
       "      <td>R</td>\n",
       "    </tr>\n",
       "    <tr>\n",
       "      <th>1</th>\n",
       "      <td>258</td>\n",
       "      <td>b\"Today I'm urging the @CDCgov to immediately ...</td>\n",
       "      <td>Coronavirus</td>\n",
       "      <td>111</td>\n",
       "      <td>2020.0</td>\n",
       "      <td>R</td>\n",
       "    </tr>\n",
       "    <tr>\n",
       "      <th>2</th>\n",
       "      <td>0</td>\n",
       "      <td>b'Tomorrow, #MO03 seniors graduate from Calvar...</td>\n",
       "      <td>MO03</td>\n",
       "      <td>2</td>\n",
       "      <td>2014.0</td>\n",
       "      <td>R</td>\n",
       "    </tr>\n",
       "    <tr>\n",
       "      <th>3</th>\n",
       "      <td>9</td>\n",
       "      <td>b'Congrats to #TeamUSA and Canton Native @JGre...</td>\n",
       "      <td>TeamUSA WorldJuniors</td>\n",
       "      <td>3</td>\n",
       "      <td>2017.0</td>\n",
       "      <td>R</td>\n",
       "    </tr>\n",
       "    <tr>\n",
       "      <th>4</th>\n",
       "      <td>3</td>\n",
       "      <td>b'Pleased to support @amergateways at their Ju...</td>\n",
       "      <td>ImmigrantHeritageMonth</td>\n",
       "      <td>3</td>\n",
       "      <td>2019.0</td>\n",
       "      <td>D</td>\n",
       "    </tr>\n",
       "  </tbody>\n",
       "</table>\n",
       "</div>"
      ],
      "text/plain": [
       "   favorite_count                                          full_text  \\\n",
       "0               0  b\"RT @KUSINews: One of our longtime viewers wa...   \n",
       "1             258  b\"Today I'm urging the @CDCgov to immediately ...   \n",
       "2               0  b'Tomorrow, #MO03 seniors graduate from Calvar...   \n",
       "3               9  b'Congrats to #TeamUSA and Canton Native @JGre...   \n",
       "4               3  b'Pleased to support @amergateways at their Ju...   \n",
       "\n",
       "                 hashtags  retweet_count    year party_id  \n",
       "0                    KUSI             10  2017.0        R  \n",
       "1             Coronavirus            111  2020.0        R  \n",
       "2                    MO03              2  2014.0        R  \n",
       "3    TeamUSA WorldJuniors              3  2017.0        R  \n",
       "4  ImmigrantHeritageMonth              3  2019.0        D  "
      ]
     },
     "execution_count": 35,
     "metadata": {},
     "output_type": "execute_result"
    }
   ],
   "source": [
    "data_train.head()"
   ]
  },
  {
   "cell_type": "code",
   "execution_count": 36,
   "id": "0dda639d",
   "metadata": {},
   "outputs": [
    {
     "data": {
      "text/html": [
       "<div>\n",
       "<style scoped>\n",
       "    .dataframe tbody tr th:only-of-type {\n",
       "        vertical-align: middle;\n",
       "    }\n",
       "\n",
       "    .dataframe tbody tr th {\n",
       "        vertical-align: top;\n",
       "    }\n",
       "\n",
       "    .dataframe thead th {\n",
       "        text-align: right;\n",
       "    }\n",
       "</style>\n",
       "<table border=\"1\" class=\"dataframe\">\n",
       "  <thead>\n",
       "    <tr style=\"text-align: right;\">\n",
       "      <th></th>\n",
       "      <th>Id</th>\n",
       "      <th>favorite_count</th>\n",
       "      <th>full_text</th>\n",
       "      <th>hashtags</th>\n",
       "      <th>retweet_count</th>\n",
       "      <th>year</th>\n",
       "      <th>party</th>\n",
       "    </tr>\n",
       "  </thead>\n",
       "  <tbody>\n",
       "    <tr>\n",
       "      <th>0</th>\n",
       "      <td>0</td>\n",
       "      <td>70</td>\n",
       "      <td>b'#TaxReform improved the playing field for Am...</td>\n",
       "      <td>TaxReform</td>\n",
       "      <td>13</td>\n",
       "      <td>2018.0</td>\n",
       "      <td>D</td>\n",
       "    </tr>\n",
       "    <tr>\n",
       "      <th>1</th>\n",
       "      <td>1</td>\n",
       "      <td>27</td>\n",
       "      <td>b'This #NativeWomensEqualPay Day, we recommit ...</td>\n",
       "      <td>NativeWomensEqualPay</td>\n",
       "      <td>11</td>\n",
       "      <td></td>\n",
       "      <td>D</td>\n",
       "    </tr>\n",
       "    <tr>\n",
       "      <th>2</th>\n",
       "      <td>2</td>\n",
       "      <td>49</td>\n",
       "      <td>b\"\\xe2\\x80\\x9cI became convinced that our gene...</td>\n",
       "      <td>MeToo ShatteringTheSilence</td>\n",
       "      <td>24</td>\n",
       "      <td>2017.0</td>\n",
       "      <td>D</td>\n",
       "    </tr>\n",
       "    <tr>\n",
       "      <th>3</th>\n",
       "      <td>3</td>\n",
       "      <td>14</td>\n",
       "      <td>b'During #NationalAdoptionMonth, we honor the ...</td>\n",
       "      <td>NationalAdoptionMonth</td>\n",
       "      <td>2</td>\n",
       "      <td>2019.0</td>\n",
       "      <td>D</td>\n",
       "    </tr>\n",
       "    <tr>\n",
       "      <th>4</th>\n",
       "      <td>4</td>\n",
       "      <td>13</td>\n",
       "      <td>b'Happy #AirborneDay to our @USArmy paratroope...</td>\n",
       "      <td>AirborneDay AirborneAllTheWay</td>\n",
       "      <td>7</td>\n",
       "      <td>2018.0</td>\n",
       "      <td>D</td>\n",
       "    </tr>\n",
       "  </tbody>\n",
       "</table>\n",
       "</div>"
      ],
      "text/plain": [
       "   Id  favorite_count                                          full_text  \\\n",
       "0   0              70  b'#TaxReform improved the playing field for Am...   \n",
       "1   1              27  b'This #NativeWomensEqualPay Day, we recommit ...   \n",
       "2   2              49  b\"\\xe2\\x80\\x9cI became convinced that our gene...   \n",
       "3   3              14  b'During #NationalAdoptionMonth, we honor the ...   \n",
       "4   4              13  b'Happy #AirborneDay to our @USArmy paratroope...   \n",
       "\n",
       "                        hashtags  retweet_count    year party  \n",
       "0                      TaxReform             13  2018.0     D  \n",
       "1           NativeWomensEqualPay             11             D  \n",
       "2     MeToo ShatteringTheSilence             24  2017.0     D  \n",
       "3          NationalAdoptionMonth              2  2019.0     D  \n",
       "4  AirborneDay AirborneAllTheWay              7  2018.0     D  "
      ]
     },
     "execution_count": 36,
     "metadata": {},
     "output_type": "execute_result"
    }
   ],
   "source": [
    "data_test.head()"
   ]
  },
  {
   "cell_type": "code",
   "execution_count": 37,
   "id": "defbc82b",
   "metadata": {},
   "outputs": [
    {
     "name": "stdout",
     "output_type": "stream",
     "text": [
      "shape train dataframe: (592803, 6)\n",
      "shape test dataframe: (265000, 7)\n"
     ]
    }
   ],
   "source": [
    "print('shape train dataframe:',data_train.shape)\n",
    "print('shape test dataframe:',data_test.shape)"
   ]
  },
  {
   "cell_type": "code",
   "execution_count": 38,
   "id": "03c72f35",
   "metadata": {},
   "outputs": [
    {
     "name": "stdout",
     "output_type": "stream",
     "text": [
      "null values for train data : \n",
      "favorite_count    0\n",
      "full_text         0\n",
      "hashtags          0\n",
      "retweet_count     0\n",
      "year              0\n",
      "party_id          0\n",
      "dtype: int64\n",
      "null values for test data : \n",
      "Id                0\n",
      "favorite_count    0\n",
      "full_text         0\n",
      "hashtags          0\n",
      "retweet_count     0\n",
      "year              0\n",
      "party             0\n",
      "dtype: int64\n"
     ]
    }
   ],
   "source": [
    "# print sum of null values for train and test dataframe\n",
    "print(\"null values for train data : \")\n",
    "print(data_train.isna().sum())\n",
    "print(\"null values for test data : \")\n",
    "print(data_test.isna().sum())"
   ]
  },
  {
   "cell_type": "code",
   "execution_count": 40,
   "id": "0aa50b22",
   "metadata": {},
   "outputs": [
    {
     "name": "stdout",
     "output_type": "stream",
     "text": [
      "D    324202\n",
      "R    268601\n",
      "Name: party_id, dtype: int64\n",
      "0 : 54.69 %\n",
      "1 : 45.31 %\n"
     ]
    },
    {
     "data": {
      "text/plain": [
       "<AxesSubplot:xlabel='party_id', ylabel='count'>"
      ]
     },
     "execution_count": 40,
     "metadata": {},
     "output_type": "execute_result"
    },
    {
     "data": {
      "image/png": "[encoded data removed]",
      "text/plain": [
       "<Figure size 576x396 with 1 Axes>"
      ]
     },
     "metadata": {},
     "output_type": "display_data"
    }
   ],
   "source": [
    "s=data_train.party_id.value_counts()\n",
    "print(s)\n",
    "print('0 :',round(s[0]/len(data_train)*100,2),'%')\n",
    "print('1 :',round(s[1]/len(data_train)*100,2),'%')\n",
    "sns.countplot(data_train['party_id'])"
   ]
  },
  {
   "cell_type": "code",
   "execution_count": 42,
   "id": "45dca7af",
   "metadata": {},
   "outputs": [],
   "source": [
    "#define new column that contain the length of each text in the dataframe\n",
    "data_train[\"text_length\"] = data_train['full_text'].apply(lambda x:len(x.split()))\n",
    "data_test[\"text_length\"] = data_test['full_text'].apply(lambda x:len(x.split()))"
   ]
  },
  {
   "cell_type": "code",
   "execution_count": 43,
   "id": "a15e2dca",
   "metadata": {},
   "outputs": [
    {
     "name": "stdout",
     "output_type": "stream",
     "text": [
      "the max length tweet for train data is: 85\n",
      "the min length tweet for train data is: 1\n",
      "the max length tweet for test data is: 64\n",
      "the min length tweet for test data is: 1\n"
     ]
    }
   ],
   "source": [
    "print('the max length tweet for train data is:',data_train['text_length'].max()) \n",
    "print('the min length tweet for train data is:',data_train['text_length'].min())\n",
    "print('the max length tweet for test data is:',data_test['text_length'].max()) \n",
    "print('the min length tweet for test data is:',data_test['text_length'].min())"
   ]
  },
  {
   "cell_type": "code",
   "execution_count": 44,
   "id": "73a6132a",
   "metadata": {},
   "outputs": [
    {
     "data": {
      "text/plain": [
       "<AxesSubplot:ylabel='Frequency'>"
      ]
     },
     "execution_count": 44,
     "metadata": {},
     "output_type": "execute_result"
    },
    {
     "data": {
      "image/png": "[encoded data removed]",
      "text/plain": [
       "<Figure size 576x396 with 1 Axes>"
      ]
     },
     "metadata": {},
     "output_type": "display_data"
    }
   ],
   "source": [
    "data_train['text_length'].plot.hist()"
   ]
  },
  {
   "cell_type": "code",
   "execution_count": 55,
   "id": "af5b5162",
   "metadata": {},
   "outputs": [
    {
     "name": "stdout",
     "output_type": "stream",
     "text": [
      "173\n",
      "115\n"
     ]
    }
   ],
   "source": [
    "print(len(data_train[data_train.text_length<2]))\n",
    "print(len(data_train[data_train.text_length>55]))"
   ]
  },
  {
   "cell_type": "code",
   "execution_count": 56,
   "id": "3c915585",
   "metadata": {},
   "outputs": [],
   "source": [
    "# delete all tweets that have Nbr words less then 4 and more then 25\n",
    "#data_train = data_train[~(data_train.text_length<2)]\n",
    "#data_train = data_train[~(data_train.text_length>25)]"
   ]
  },
  {
   "cell_type": "code",
   "execution_count": 60,
   "id": "c32c9db3",
   "metadata": {},
   "outputs": [],
   "source": [
    "def clean_text(data):\n",
    "    # convert letters to lowercase\n",
    "    data['clean_text']=data['full_text'].str.lower()\n",
    "    #remove URLS\n",
    "    data['clean_text'] = data['full_text'].apply(lambda elem:re.sub(r\"http\\S+\", \"\", elem))\n",
    "    #remove ponctuation\n",
    "    data['clean_text'] = data['full_text'].apply(lambda elem:re.sub(r\"[^\\w\\s]\", \"\", elem))\n",
    "    #remove \n",
    "    data['clean_text'] = data['full_text'].apply(lambda elem:re.sub(r'/n',\"\",elem))\n",
    "    #remove degits\n",
    "    data['clean_text'] = data['full_text'].apply(lambda elem:re.sub(r'\\d+',\"\",elem))\n",
    "    #remove multiple spaces\n",
    "    data['clean_text'] = data['full_text'].apply(lambda elem:re.sub(r'\\s+',\" \",elem))\n",
    "    #remove single caracter\n",
    "    data['clean_text'] = data['full_text'].apply(lambda elem:re.sub(r'\\s+[a-zA-Z]\\s+',\" \",elem))\n",
    "    return data"
   ]
  },
  {
   "cell_type": "code",
   "execution_count": 61,
   "id": "5604420f",
   "metadata": {},
   "outputs": [],
   "source": [
    "data_train=clean_text(data_train)\n",
    "data_test=clean_text(data_test)"
   ]
  },
  {
   "cell_type": "code",
   "execution_count": 62,
   "id": "1020ff7b",
   "metadata": {},
   "outputs": [],
   "source": [
    "def remove_Stopwords(text):\n",
    "    stopW=stopwords.words('english') #get the english stopwords\n",
    "    return \" \".join([i for i in text.split() if i not in stopW])\n",
    "\n",
    "data_train['clean_text']=data_train['clean_text'].apply(lambda x:remove_Stopwords(x))"
   ]
  },
  {
   "cell_type": "code",
   "execution_count": 63,
   "id": "215b0ed9",
   "metadata": {},
   "outputs": [],
   "source": [
    "def get_wordnet_pos(word):\n",
    "    \"\"\"Map POS tag to first character lemmatize() accepts\"\"\"\n",
    "    tag = nltk.pos_tag([word])[0][1][0].upper()\n",
    "    tag_dict = {\"J\": wordnet.ADJ,\n",
    "                \"N\": wordnet.NOUN,\n",
    "                \"V\": wordnet.VERB,\n",
    "                \"R\": wordnet.ADV}\n",
    "\n",
    "    return tag_dict.get(tag, wordnet.NOUN)\n",
    "\n",
    "def lemmatize(text):\n",
    "    # 1. Init Lemmatizer\n",
    "    lemmatizer = WordNetLemmatizer()\n",
    "    # 2. Lemmatize text with the appropriate POS tag\n",
    "    return \" \".join([lemmatizer.lemmatize(i, get_wordnet_pos(i)) for i in text.split()])\n",
    "\n",
    "\n",
    "#Apply lemmatizer to each row in the dataframe\n",
    "data_train['clean_text'] = data_train['clean_text'].apply(lambda x:lemmatize(x) )"
   ]
  },
  {
   "cell_type": "code",
   "execution_count": 68,
   "id": "ee6e4029",
   "metadata": {},
   "outputs": [],
   "source": [
    "max_features = 100000\n",
    "#Tensorflow Tokenizer\n",
    "tokenizer = Tokenizer(num_words=max_features,split=' ')\n",
    "tokenizer.fit_on_texts(data_train['clean_text'].values)\n",
    "X = tokenizer.texts_to_sequences(data_train['clean_text'].values)\n",
    "X = pad_sequences(X,padding='post')"
   ]
  },
  {
   "cell_type": "code",
   "execution_count": 65,
   "id": "7185a557",
   "metadata": {},
   "outputs": [],
   "source": [
    "def linearscv(df):    \n",
    "    clean_text = df['clean_text'].tolist()\n",
    "    vectorizer1 = CountVectorizer(ngram_range=(1,1), lowercase= True)\n",
    "    cv1 = vectorizer1.fit_transform(clean_text)\n",
    "    tfidf1 = TfidfVectorizer(ngram_range=(1,1), lowercase= True)\n",
    "    tfidf2 = TfidfVectorizer(ngram_range=(1,2), lowercase= True)\n",
    "    tfidf3 = TfidfVectorizer(ngram_range=(1,3), lowercase= True)\n",
    "    tf1 = tfidf1.fit_transform(clean_text)\n",
    "    tf2 = tfidf2.fit_transform(clean_text)\n",
    "    tf3 = tfidf3.fit_transform(clean_text)\n",
    "    return (cv1, tf1, tf2, tf3)"
   ]
  },
  {
   "cell_type": "code",
   "execution_count": 67,
   "id": "5e05736b",
   "metadata": {},
   "outputs": [
    {
     "data": {
      "text/html": [
       "<div>\n",
       "<style scoped>\n",
       "    .dataframe tbody tr th:only-of-type {\n",
       "        vertical-align: middle;\n",
       "    }\n",
       "\n",
       "    .dataframe tbody tr th {\n",
       "        vertical-align: top;\n",
       "    }\n",
       "\n",
       "    .dataframe thead th {\n",
       "        text-align: right;\n",
       "    }\n",
       "</style>\n",
       "<table border=\"1\" class=\"dataframe\">\n",
       "  <thead>\n",
       "    <tr style=\"text-align: right;\">\n",
       "      <th></th>\n",
       "      <th>Id</th>\n",
       "      <th>party</th>\n",
       "    </tr>\n",
       "  </thead>\n",
       "  <tbody>\n",
       "    <tr>\n",
       "      <th>0</th>\n",
       "      <td>0</td>\n",
       "      <td>D</td>\n",
       "    </tr>\n",
       "    <tr>\n",
       "      <th>1</th>\n",
       "      <td>1</td>\n",
       "      <td>D</td>\n",
       "    </tr>\n",
       "    <tr>\n",
       "      <th>2</th>\n",
       "      <td>2</td>\n",
       "      <td>D</td>\n",
       "    </tr>\n",
       "    <tr>\n",
       "      <th>3</th>\n",
       "      <td>3</td>\n",
       "      <td>D</td>\n",
       "    </tr>\n",
       "    <tr>\n",
       "      <th>4</th>\n",
       "      <td>4</td>\n",
       "      <td>D</td>\n",
       "    </tr>\n",
       "    <tr>\n",
       "      <th>...</th>\n",
       "      <td>...</td>\n",
       "      <td>...</td>\n",
       "    </tr>\n",
       "    <tr>\n",
       "      <th>95</th>\n",
       "      <td>95</td>\n",
       "      <td>D</td>\n",
       "    </tr>\n",
       "    <tr>\n",
       "      <th>96</th>\n",
       "      <td>96</td>\n",
       "      <td>D</td>\n",
       "    </tr>\n",
       "    <tr>\n",
       "      <th>97</th>\n",
       "      <td>97</td>\n",
       "      <td>D</td>\n",
       "    </tr>\n",
       "    <tr>\n",
       "      <th>98</th>\n",
       "      <td>98</td>\n",
       "      <td>D</td>\n",
       "    </tr>\n",
       "    <tr>\n",
       "      <th>99</th>\n",
       "      <td>99</td>\n",
       "      <td>D</td>\n",
       "    </tr>\n",
       "  </tbody>\n",
       "</table>\n",
       "<p>100 rows × 2 columns</p>\n",
       "</div>"
      ],
      "text/plain": [
       "    Id party\n",
       "0    0     D\n",
       "1    1     D\n",
       "2    2     D\n",
       "3    3     D\n",
       "4    4     D\n",
       "..  ..   ...\n",
       "95  95     D\n",
       "96  96     D\n",
       "97  97     D\n",
       "98  98     D\n",
       "99  99     D\n",
       "\n",
       "[100 rows x 2 columns]"
      ]
     },
     "execution_count": 67,
     "metadata": {},
     "output_type": "execute_result"
    }
   ],
   "source": []
  },
  {
   "cell_type": "code",
   "execution_count": null,
   "id": "f491d7b9",
   "metadata": {},
   "outputs": [],
   "source": []
  }
 ],
 "metadata": {
  "kernelspec": {
   "display_name": "Python 3 (ipykernel)",
   "language": "python",
   "name": "python3"
  },
  "language_info": {
   "codemirror_mode": {
    "name": "ipython",
    "version": 3
   },
   "file_extension": ".py",
   "mimetype": "text/x-python",
   "name": "python",
   "nbconvert_exporter": "python",
   "pygments_lexer": "ipython3",
   "version": "3.9.7"
  }
 },
 "nbformat": 4,
 "nbformat_minor": 5
}
